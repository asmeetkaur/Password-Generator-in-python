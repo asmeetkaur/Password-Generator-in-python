{
 "cells": [
  {
   "cell_type": "code",
   "execution_count": 1,
   "id": "220ce3c8",
   "metadata": {},
   "outputs": [],
   "source": [
    "import random\n",
    "import string"
   ]
  },
  {
   "cell_type": "code",
   "execution_count": 2,
   "id": "d8bce2d6",
   "metadata": {},
   "outputs": [],
   "source": [
    "def generate_password(length=12, use_uppercase=True, use_digits=True, use_special_chars=True):\n",
    "    chars = string.ascii_lowercase\n",
    "    if use_uppercase:\n",
    "        chars += string.ascii_uppercase\n",
    "    if use_digits:\n",
    "        chars += string.digits\n",
    "    if use_special_chars:\n",
    "        chars += string.punctuation\n",
    "    if length < 1:\n",
    "        raise ValueError(\"Password length should be at least 1\")\n",
    "    password = ''.join(random.choice(chars) for _ in range(length))\n",
    "    return password"
   ]
  },
  {
   "cell_type": "code",
   "execution_count": 3,
   "id": "c6e269d9",
   "metadata": {},
   "outputs": [
    {
     "name": "stdout",
     "output_type": "stream",
     "text": [
      "Generated Password: @oY8[o$NwA5B1GnQ\n"
     ]
    }
   ],
   "source": [
    "# Example usage:\n",
    "password = generate_password(length=16, use_uppercase=True, use_digits=True, use_special_chars=True)\n",
    "print(\"Generated Password:\", password)"
   ]
  },
  {
   "cell_type": "code",
   "execution_count": null,
   "id": "37d293e2",
   "metadata": {},
   "outputs": [],
   "source": []
  }
 ],
 "metadata": {
  "kernelspec": {
   "display_name": "Python 3 (ipykernel)",
   "language": "python",
   "name": "python3"
  },
  "language_info": {
   "codemirror_mode": {
    "name": "ipython",
    "version": 3
   },
   "file_extension": ".py",
   "mimetype": "text/x-python",
   "name": "python",
   "nbconvert_exporter": "python",
   "pygments_lexer": "ipython3",
   "version": "3.11.5"
  }
 },
 "nbformat": 4,
 "nbformat_minor": 5
}
